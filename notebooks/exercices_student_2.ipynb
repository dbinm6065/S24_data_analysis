{
 "cells": [
  {
   "cell_type": "markdown",
   "id": "0b5f76c3-f9f6-42cf-85e2-3f0e6def0286",
   "metadata": {},
   "source": [
    "# Data Analysis and Data Science\n",
    "## Be curious about the method \n",
    "\n",
    "By: Caroline Labelle\n",
    "<br>For: BIM6065-C\n",
    "\n",
    "<br>\n",
    "Date: July 4th, 2023\n",
    "\n",
    "<hr style=\"border:1px solid black\"> </hr>"
   ]
  },
  {
   "cell_type": "code",
   "execution_count": null,
   "id": "e545393f-36ef-48fe-a7c5-8ccf4373597d",
   "metadata": {},
   "outputs": [],
   "source": [
    "### Student Name: "
   ]
  },
  {
   "cell_type": "markdown",
   "id": "9ed6012b-aa81-4f1f-92f4-794ac29b1598",
   "metadata": {},
   "source": [
    "Complete the following exercises and submit your Notebook in a HTML format on StudiUM. You have until July 5th, noon to hand-in your Notebook."
   ]
  },
  {
   "cell_type": "code",
   "execution_count": null,
   "id": "5b313e3b-06d1-4515-9404-dbe1850ef415",
   "metadata": {},
   "outputs": [],
   "source": [
    "### Import sklearn\n",
    "import sklearn.decomposition, sklearn.cluster\n",
    "\n",
    "### Import scipy\n",
    "import scipy as sp\n",
    "\n",
    "### Import pandas, numpy, seaborn and matplotlib.pyplot\n",
    "import pandas as pd\n",
    "import numpy as np\n",
    "import seaborn as sns"
   ]
  },
  {
   "cell_type": "code",
   "execution_count": null,
   "id": "c21e56ca-687a-430f-8d89-ec57525e92bb",
   "metadata": {},
   "outputs": [],
   "source": [
    "sns.set(rc={'figure.figsize':(4, 2)})\n",
    "sns.set_theme(context=\"notebook\", style=\"white\", palette=\"Set2\")"
   ]
  },
  {
   "cell_type": "markdown",
   "id": "5b0fd809-ef46-45a8-90fd-748a4fce79fa",
   "metadata": {},
   "source": [
    "## Genes correlation [25 pts]"
   ]
  },
  {
   "cell_type": "code",
   "execution_count": null,
   "id": "c33fda1e-e5f6-4d17-9b02-ba6e21d7624f",
   "metadata": {},
   "outputs": [],
   "source": [
    "### Import and clean the Gene expression cancer 1 dataset\n",
    "data = \n",
    "data.head()"
   ]
  },
  {
   "cell_type": "markdown",
   "id": "cbc9c7b2-1dfe-487e-8a39-3e384e6f3953",
   "metadata": {},
   "source": [
    "### Global correlation [6 pts]"
   ]
  },
  {
   "cell_type": "code",
   "execution_count": null,
   "id": "99f2dd9d-9bab-42a9-a225-4eb9306f8749",
   "metadata": {},
   "outputs": [],
   "source": [
    "### Consider the PGR and ESR1 genes. Do the expression of these two genes correlates?\n",
    "### Consider the entire dataset.\n",
    "### Answer the question with a Pearson correlation coefficient, a plot and brief interpretation of your results.\n",
    "\n",
    "print(\"Pearson correlation: \")\n",
    "\n"
   ]
  },
  {
   "cell_type": "markdown",
   "id": "ffaadb16-d40b-421a-a02b-78b4810b87cd",
   "metadata": {},
   "source": [
    "### Grouped correlations [14 pts]"
   ]
  },
  {
   "cell_type": "code",
   "execution_count": null,
   "id": "6a7499fc-9a75-4271-83e8-7912fbbeca92",
   "metadata": {},
   "outputs": [],
   "source": [
    "### Consider the same two genes, but assess correlation based on the patient outcomes (a.k.a \"Results\").\n",
    "### For each group, return a Pearson correlation coefficient and a plot.\n",
    "### (You can generate a single plot with all three groups or three individual plots)\n",
    "### Briefly interpret your results and state if your conclusion differ from the one previously made (Global correlation).\n"
   ]
  },
  {
   "cell_type": "markdown",
   "id": "1f0b8a55-dc0a-41bd-a364-6f1573e4b868",
   "metadata": {},
   "source": [
    "### Spearman's rank correlation [5 pts]"
   ]
  },
  {
   "cell_type": "code",
   "execution_count": null,
   "id": "8e9b3a16-7cbc-4e3b-8400-b5851b480566",
   "metadata": {},
   "outputs": [],
   "source": [
    "### Calculate the Spearman' rank correlations for the four comparisons made previously.\n",
    "### (Global dataset and the three goups)\n",
    "### Do the results differ? if so, do the conlusions also differ? \n",
    "### Briefly explain what are the new conclusions.\n"
   ]
  }
 ],
 "metadata": {
  "kernelspec": {
   "display_name": "Python (bioinfo) 2024",
   "language": "python",
   "name": "bioinfo"
  },
  "language_info": {
   "codemirror_mode": {
    "name": "ipython",
    "version": 3
   },
   "file_extension": ".py",
   "mimetype": "text/x-python",
   "name": "python",
   "nbconvert_exporter": "python",
   "pygments_lexer": "ipython3",
   "version": "3.10.4"
  }
 },
 "nbformat": 4,
 "nbformat_minor": 5
}
